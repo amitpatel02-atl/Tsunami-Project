{
 "cells": [
  {
   "cell_type": "markdown",
   "metadata": {},
   "source": [
    "# Project 2\n",
    "### Python Backend: Load Tsunami TSV file to MongoDB\n",
    "\n",
    "#### Requirements:\n",
    "* Ensure that the input TSV file is located in the same directory as this Jupyter Notebook file\n",
    "* Ensure that the MongoDB mongod process is running.  On Mac OS, use \"ps aux | grep -v grep | grep mongod\" to verify that the mongod process is active"
   ]
  },
  {
   "cell_type": "markdown",
   "metadata": {},
   "source": [
    "#### Imports"
   ]
  },
  {
   "cell_type": "code",
   "execution_count": 2,
   "metadata": {},
   "outputs": [],
   "source": [
    "import pandas as pd\n",
    "import pymongo\n",
    "import numpy as np\n",
    "import csv\n",
    "import pprint"
   ]
  },
  {
   "cell_type": "markdown",
   "metadata": {},
   "source": [
    "#### Create MongoDB connection"
   ]
  },
  {
   "cell_type": "code",
   "execution_count": 3,
   "metadata": {},
   "outputs": [],
   "source": [
    "# The default port used by MongoDB is 27017\n",
    "# https://docs.mongodb.com/manual/reference/default-mongodb-port/\n",
    "conn = 'mongodb://localhost:27017'\n",
    "client = pymongo.MongoClient(conn)\n",
    "\n",
    "# Define the 'Project2' database in Mongo\n",
    "db = client.Project2"
   ]
  },
  {
   "cell_type": "markdown",
   "metadata": {},
   "source": [
    "#### Read input TSV file"
   ]
  },
  {
   "cell_type": "code",
   "execution_count": 4,
   "metadata": {},
   "outputs": [],
   "source": [
    "input_tsv_file = \"runups-2000_to_2020.tsv\""
   ]
  },
  {
   "cell_type": "code",
   "execution_count": null,
   "metadata": {},
   "outputs": [],
   "source": [
    "# Declare an empty list and empty dictionary\n",
    "tsunami_runups_lst = []\n",
    "tsunami_runups_row_json = {}\n",
    "\n",
    "# Open the input TSV file for reading\n",
    "with open(input_tsv_file) as tsvfile:\n",
    "    reader = csv.reader(tsvfile, delimiter='\\t')\n",
    "\n",
    "    # Save header\n",
    "    tsv_header = next(reader)\n",
    "    \n",
    "    # Skip row that has the search parameters\n",
    "    junk = next(reader)\n",
    "    \n",
    "    for row in reader:\n",
    "        for x in range(len(row)):\n",
    "            # Build JSON object for one row of data\n",
    "            tsunami_runups_row_json[tsv_header[x]] = row[x]\n",
    "        # Add to array of JSONs\n",
    "        tsunami_runups_lst.append(tsunami_runups_row_json)\n",
    "        tsunami_runups_row_json = {}\n"
   ]
  },
  {
   "cell_type": "code",
   "execution_count": null,
   "metadata": {},
   "outputs": [],
   "source": []
  },
  {
   "cell_type": "markdown",
   "metadata": {},
   "source": [
    "#### Query existing tsunami data collection\n",
    "* Use this to count how many records currently exist in the tsunami data collection"
   ]
  },
  {
   "cell_type": "code",
   "execution_count": 11,
   "metadata": {},
   "outputs": [
    {
     "name": "stdout",
     "output_type": "stream",
     "text": [
      "Number of tsunami data records in DB: 14119\n"
     ]
    }
   ],
   "source": [
    "# Query 'tsunamidata_collection'\n",
    "record_count = db.tsunamidata_collection.count_documents({})\n",
    "print(f\"Number of tsunami data records in DB: {record_count}\")"
   ]
  },
  {
   "cell_type": "code",
   "execution_count": null,
   "metadata": {},
   "outputs": [],
   "source": []
  },
  {
   "cell_type": "markdown",
   "metadata": {},
   "source": [
    "#### Remove existing rows from tsunami data collection\n",
    "* Use this to remove existing records before inserting new records based on the input file"
   ]
  },
  {
   "cell_type": "code",
   "execution_count": 8,
   "metadata": {},
   "outputs": [
    {
     "data": {
      "text/plain": [
       "<pymongo.results.DeleteResult at 0x7fb0a18d24c0>"
      ]
     },
     "execution_count": 8,
     "metadata": {},
     "output_type": "execute_result"
    }
   ],
   "source": [
    "# Empty the collection\n",
    "db.tsunamidata_collection.delete_many({})"
   ]
  },
  {
   "cell_type": "code",
   "execution_count": null,
   "metadata": {},
   "outputs": [],
   "source": []
  },
  {
   "cell_type": "markdown",
   "metadata": {},
   "source": [
    "#### Insert tsunami data collection records\n",
    "* Insert all records from the input file\n",
    "* Recommend using the record count query mentioned earlier to check database document count"
   ]
  },
  {
   "cell_type": "code",
   "execution_count": 10,
   "metadata": {},
   "outputs": [
    {
     "data": {
      "text/plain": [
       "<pymongo.results.InsertManyResult at 0x7fb0a40dc2c0>"
      ]
     },
     "execution_count": 10,
     "metadata": {},
     "output_type": "execute_result"
    }
   ],
   "source": [
    "db.tsunamidata_collection.insert_many(tsunami_runups_lst)"
   ]
  },
  {
   "cell_type": "code",
   "execution_count": null,
   "metadata": {},
   "outputs": [],
   "source": []
  }
 ],
 "metadata": {
  "kernelspec": {
   "display_name": "PythonData",
   "language": "python",
   "name": "pythondata"
  },
  "language_info": {
   "codemirror_mode": {
    "name": "ipython",
    "version": 3
   },
   "file_extension": ".py",
   "mimetype": "text/x-python",
   "name": "python",
   "nbconvert_exporter": "python",
   "pygments_lexer": "ipython3",
   "version": "3.8.1"
  }
 },
 "nbformat": 4,
 "nbformat_minor": 4
}
